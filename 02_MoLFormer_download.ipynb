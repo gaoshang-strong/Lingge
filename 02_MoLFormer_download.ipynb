{
 "cells": [
  {
   "cell_type": "code",
   "execution_count": 1,
   "id": "740399f1-8236-4495-81c7-0a941f3209ce",
   "metadata": {},
   "outputs": [
    {
     "name": "stderr",
     "output_type": "stream",
     "text": [
      "/home/sgao30/anaconda3/envs/diffusion/lib/python3.11/site-packages/tqdm/auto.py:21: TqdmWarning: IProgress not found. Please update jupyter and ipywidgets. See https://ipywidgets.readthedocs.io/en/stable/user_install.html\n",
      "  from .autonotebook import tqdm as notebook_tqdm\n"
     ]
    },
    {
     "name": "stdout",
     "output_type": "stream",
     "text": [
      "Saved to: /ShangGaoAIProjects/Lingge/LINCS/data/Models/MoLFormer\n"
     ]
    }
   ],
   "source": [
    "from transformers import AutoTokenizer, AutoModel\n",
    "import torch, os\n",
    "\n",
    "MODEL_ID  = \"ibm-research/MoLFormer-XL-both-10pct\"\n",
    "LOCAL_DIR = \"/ShangGaoAIProjects/Lingge/LINCS/data/Models/MoLFormer\"\n",
    "os.makedirs(LOCAL_DIR, exist_ok=True)\n",
    "\n",
    "tokenizer = AutoTokenizer.from_pretrained(MODEL_ID, trust_remote_code=True)\n",
    "model     = AutoModel.from_pretrained(MODEL_ID, trust_remote_code=True)\n",
    "\n",
    "# ✅ Save in PyTorch .bin format (no safetensors)\n",
    "tokenizer.save_pretrained(LOCAL_DIR)\n",
    "model.save_pretrained(LOCAL_DIR, safe_serialization=False)\n",
    "\n",
    "print(\"Saved to:\", LOCAL_DIR)\n"
   ]
  },
  {
   "cell_type": "code",
   "execution_count": 2,
   "id": "c7e3d6b4-c31d-48ea-acc4-997c1c19a59c",
   "metadata": {},
   "outputs": [
    {
     "name": "stderr",
     "output_type": "stream",
     "text": [
      "/home/sgao30/anaconda3/envs/diffusion/lib/python3.11/site-packages/torch/_utils.py:831: UserWarning: TypedStorage is deprecated. It will be removed in the future and UntypedStorage will be the only storage class. This should only matter to you if you are using storages directly.  To access UntypedStorage directly, use tensor.untyped_storage() instead of tensor.storage()\n",
      "  return self.fget.__get__(instance, owner)()\n"
     ]
    }
   ],
   "source": [
    "tokenizer = AutoTokenizer.from_pretrained(LOCAL_DIR, trust_remote_code=True)\n",
    "model     = AutoModel.from_pretrained(LOCAL_DIR, trust_remote_code=True).eval()\n"
   ]
  },
  {
   "cell_type": "code",
   "execution_count": 4,
   "id": "b3eec12a-83cf-4bcb-885c-5af123c9f1aa",
   "metadata": {},
   "outputs": [
    {
     "name": "stdout",
     "output_type": "stream",
     "text": [
      "Emb shape: torch.Size([2, 768])\n"
     ]
    }
   ],
   "source": [
    "# 3) 快速自测：给几条 SMILES 做一次前向\n",
    "smiles_list = [\n",
    "    \"COc1ccccc1C1N(c2ccc(Cl)cc2)C(=O)C2CCCN21\",   # Aspirin\n",
    "    \"CC(C=CC(=O)NO)=CC(C)C(=O)c1ccc(N(C)C)cc1\"  # Caffeine\n",
    "]\n",
    "\n",
    "inputs = tokenizer(\n",
    "    smiles_list,\n",
    "    padding=True,\n",
    "    truncation=True,\n",
    "    return_tensors=\"pt\"\n",
    ")\n",
    "\n",
    "with torch.no_grad():\n",
    "    outputs = model(**inputs)\n",
    "\n",
    "# 一般会有 pooler_output 可直接作为分子级 embedding（不同版本可能略有差异）\n",
    "emb = getattr(outputs, \"pooler_output\", None)\n",
    "if emb is None:\n",
    "    emb = outputs.last_hidden_state[:, 0, :]  # 退化：用 CLS 作为向量\n",
    "print(\"Emb shape:\", emb.shape)\n"
   ]
  },
  {
   "cell_type": "code",
   "execution_count": 5,
   "id": "e544b529-9e87-4ccd-86bd-f0b4b444ad05",
   "metadata": {},
   "outputs": [
    {
     "data": {
      "text/plain": [
       "tensor([[-0.0238,  0.0363,  0.6719,  ...,  0.2420,  0.5480, -0.4556],\n",
       "        [ 0.2572,  0.4921,  0.8366,  ...,  0.1590, -0.1318, -0.1877]])"
      ]
     },
     "execution_count": 5,
     "metadata": {},
     "output_type": "execute_result"
    }
   ],
   "source": [
    "emb"
   ]
  },
  {
   "cell_type": "code",
   "execution_count": null,
   "id": "6ed3cf5d-b6aa-4324-a4ba-370565285bd3",
   "metadata": {},
   "outputs": [],
   "source": []
  },
  {
   "cell_type": "code",
   "execution_count": null,
   "id": "2be65e82-4541-4bbf-a338-5c8ca602b4cd",
   "metadata": {},
   "outputs": [],
   "source": []
  },
  {
   "cell_type": "code",
   "execution_count": null,
   "id": "4d9ca7b5-dfc2-42ac-b935-12a45808e70a",
   "metadata": {},
   "outputs": [],
   "source": []
  },
  {
   "cell_type": "code",
   "execution_count": null,
   "id": "d005a038-9048-4bee-8a76-c99fd39dbc6d",
   "metadata": {},
   "outputs": [],
   "source": []
  }
 ],
 "metadata": {
  "kernelspec": {
   "display_name": "Python (diffusion)",
   "language": "python",
   "name": "diffusion"
  },
  "language_info": {
   "codemirror_mode": {
    "name": "ipython",
    "version": 3
   },
   "file_extension": ".py",
   "mimetype": "text/x-python",
   "name": "python",
   "nbconvert_exporter": "python",
   "pygments_lexer": "ipython3",
   "version": "3.11.5"
  }
 },
 "nbformat": 4,
 "nbformat_minor": 5
}
